{
 "cells": [
  {
   "cell_type": "code",
   "execution_count": 3,
   "metadata": {
    "collapsed": false
   },
   "outputs": [
    {
     "name": "stderr",
     "output_type": "stream",
     "text": [
      "Warning: error initializing module PyPlot:\n",
      "PyCall.PyError(msg=\":PyImport_ImportModule\", T=PyCall.PyObject(o=0x0000000016971ca0), val=PyCall.PyObject(o=0x0000000016b26248), traceback=PyCall.PyObject(o=0x0000000000000000))\n"
     ]
    }
   ],
   "source": [
    "using PyPlot"
   ]
  },
  {
   "cell_type": "code",
   "execution_count": 1,
   "metadata": {
    "collapsed": false
   },
   "outputs": [
    {
     "data": {
      "text/plain": [
       "11x11 Array{Int64,2}:\n",
       " 0  0  0  0  0  0  0  0  0  0  0\n",
       " 0  0  0  0  0  0  0  0  0  0  0\n",
       " 0  0  0  0  0  0  0  0  0  0  0\n",
       " 0  0  0  0  0  0  0  0  0  0  0\n",
       " 0  0  0  0  0  0  0  0  0  0  0\n",
       " 0  0  0  0  0  1  0  0  0  0  0\n",
       " 0  0  0  0  0  0  0  0  0  0  0\n",
       " 0  0  0  0  0  0  0  0  0  0  0\n",
       " 0  0  0  0  0  0  0  0  0  0  0\n",
       " 0  0  0  0  0  0  0  0  0  0  0\n",
       " 0  0  0  0  0  0  0  0  0  0  0"
      ]
     },
     "execution_count": 1,
     "metadata": {},
     "output_type": "execute_result"
    }
   ],
   "source": [
    "L=11\n",
    "A=zeros(Int,L,L)\n",
    "A[floor(L/2+1),floor(L/2+1)]=1\n",
    "A"
   ]
  },
  {
   "cell_type": "code",
   "execution_count": 2,
   "metadata": {
    "collapsed": false
   },
   "outputs": [
    {
     "data": {
      "text/plain": [
       "particula (generic function with 1 method)"
      ]
     },
     "execution_count": 2,
     "metadata": {},
     "output_type": "execute_result"
    }
   ],
   "source": [
    "function particula(A::Array{Int64,2},L)\n",
    "    x=rand(1:L)\n",
    "    y=rand(1:L)\n",
    "    if A[x,y]!=1\n",
    "        A[x,y]=-1\n",
    "    end\n",
    "    return A\n",
    "end"
   ]
  },
  {
   "cell_type": "code",
   "execution_count": 3,
   "metadata": {
    "collapsed": false
   },
   "outputs": [
    {
     "data": {
      "text/plain": [
       "11x11 Array{Int64,2}:\n",
       " 0  0  0  0  0   0  0  0  0  0  0\n",
       " 0  0  0  0  0   0  0  0  0  0  0\n",
       " 0  0  0  0  0   0  0  0  0  0  0\n",
       " 0  0  0  0  0   0  0  0  0  0  0\n",
       " 0  0  0  0  0   0  0  0  0  0  0\n",
       " 0  0  0  0  0   1  0  0  0  0  0\n",
       " 0  0  0  0  0   0  0  0  0  0  0\n",
       " 0  0  0  0  0   0  0  0  0  0  0\n",
       " 0  0  0  0  0  -1  0  0  0  0  0\n",
       " 0  0  0  0  0   0  0  0  0  0  0\n",
       " 0  0  0  0  0   0  0  0  0  0  0"
      ]
     },
     "execution_count": 3,
     "metadata": {},
     "output_type": "execute_result"
    }
   ],
   "source": [
    "L=11\n",
    "A=zeros(Int,L,L)\n",
    "A[floor(L/2+1),floor(L/2+1)]=1\n",
    "particula(A,L)"
   ]
  },
  {
   "cell_type": "code",
   "execution_count": 4,
   "metadata": {
    "collapsed": false
   },
   "outputs": [
    {
     "data": {
      "text/plain": [
       "paso (generic function with 1 method)"
      ]
     },
     "execution_count": 4,
     "metadata": {},
     "output_type": "execute_result"
    }
   ],
   "source": [
    "function paso(A::Array{Int64,2},L)\n",
    "        for i in 1:10000000\n",
    "            if A[x,y]!=1\n",
    "                A[x,y]=-1\n",
    "                if A[x,y]*A[mod1(x+1,L),y]==-1 || A[x,y]*A[mod1(x-1,L),y]==-1|| A[x,y]*A[x,mod1(y+1,L)]==-1|| A[x,y]*A[x,mod1(y-1,L)]==-1\n",
    "                    A[x,y]=1\n",
    "                    return A\n",
    "                else\n",
    "                    A[x,y]=0\n",
    "                end\n",
    "            x=mod1(x+rand(-1:1),L)\n",
    "            y=mod1(y+rand(-1:1),L)\n",
    "            end\n",
    "        end\n",
    "    return A\n",
    "end"
   ]
  },
  {
   "cell_type": "code",
   "execution_count": 7,
   "metadata": {
    "collapsed": false
   },
   "outputs": [
    {
     "data": {
      "text/plain": [
       "6"
      ]
     },
     "execution_count": 7,
     "metadata": {},
     "output_type": "execute_result"
    }
   ],
   "source": [
    "x=x"
   ]
  },
  {
   "cell_type": "code",
   "execution_count": 12,
   "metadata": {
    "collapsed": false
   },
   "outputs": [
    {
     "ename": "LoadError",
     "evalue": "x not defined\nwhile loading In[12], in expression starting on line 7",
     "output_type": "error",
     "traceback": [
      "x not defined\nwhile loading In[12], in expression starting on line 7",
      "",
      " in paso at In[4]:3"
     ]
    }
   ],
   "source": [
    "L=8\n",
    "x=rand(1:L)\n",
    "y=rand(1:L)\n",
    "A=zeros(Int,L,L)\n",
    "A[floor(L/2+1),floor(L/2+1)]=1\n",
    "\n",
    "paso(A,L)\n"
   ]
  },
  {
   "cell_type": "code",
   "execution_count": 10,
   "metadata": {
    "collapsed": false
   },
   "outputs": [
    {
     "ename": "LoadError",
     "evalue": "`paso` has no method matching paso(::Array{Int64,2}, ::Int64, ::Int64, ::Int64)\nwhile loading In[10], in expression starting on line 7",
     "output_type": "error",
     "traceback": [
      "`paso` has no method matching paso(::Array{Int64,2}, ::Int64, ::Int64, ::Int64)\nwhile loading In[10], in expression starting on line 7",
      "",
      " in anonymous at no file:8"
     ]
    }
   ],
   "source": [
    "x=rand(1:L)\n",
    "y=rand(1:L)\n",
    "L=25\n",
    "A=zeros(Int,L,L)\n",
    "A[floor(L/2+1),floor(L/2+1)]=1\n",
    "\n",
    "for i in 1:3\n",
    "    paso(A,L,x,y)\n",
    "    print(x)\n",
    "end\n",
    "return A"
   ]
  },
  {
   "cell_type": "code",
   "execution_count": null,
   "metadata": {
    "collapsed": true
   },
   "outputs": [],
   "source": []
  }
 ],
 "metadata": {
  "kernelspec": {
   "display_name": "Julia 0.3.5",
   "language": "julia",
   "name": "julia 0.3"
  },
  "language_info": {
   "name": "julia",
   "version": "0.3.5"
  }
 },
 "nbformat": 4,
 "nbformat_minor": 0
}
