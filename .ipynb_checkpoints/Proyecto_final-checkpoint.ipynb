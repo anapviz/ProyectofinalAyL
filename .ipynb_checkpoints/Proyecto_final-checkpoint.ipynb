{
 "cells": [
  {
   "cell_type": "code",
   "execution_count": 3,
   "metadata": {
    "collapsed": false
   },
   "outputs": [
    {
     "name": "stderr",
     "output_type": "stream",
     "text": [
      "Warning: error initializing module PyPlot:\n",
      "PyCall.PyError(msg=\":PyImport_ImportModule\", T=PyCall.PyObject(o=0x0000000016971ca0), val=PyCall.PyObject(o=0x0000000016b26248), traceback=PyCall.PyObject(o=0x0000000000000000))\n"
     ]
    }
   ],
   "source": [
    "using PyPlot"
   ]
  },
  {
   "cell_type": "code",
   "execution_count": 1,
   "metadata": {
    "collapsed": false
   },
   "outputs": [
    {
     "data": {
      "text/plain": [
       "paso (generic function with 1 method)"
      ]
     },
     "execution_count": 1,
     "metadata": {},
     "output_type": "execute_result"
    }
   ],
   "source": [
    "function paso(A::Array{Int64,2},L)\n",
    "x=rand(1:L)\n",
    "y=rand(1:L)\n",
    "        for i in 1:10000000\n",
    "            if A[x,y]!=1\n",
    "                A[x,y]=-1\n",
    "                if A[x,y]*A[mod1(x+1,L),y]==-1 || A[x,y]*A[mod1(x-1,L),y]==-1|| A[x,y]*A[x,mod1(y+1,L)]==-1|| A[x,y]*A[x,mod1(y-1,L)]==-1\n",
    "                    A[x,y]=1\n",
    "                    return A\n",
    "                else\n",
    "                    A[x,y]=0\n",
    "                end\n",
    "            x=mod1(x+rand(-1:1),L)\n",
    "            y=mod1(y+rand(-1:1),L)\n",
    "            end\n",
    "        end\n",
    "    return A\n",
    "end"
   ]
  },
  {
   "cell_type": "code",
   "execution_count": 2,
   "metadata": {
    "collapsed": false
   },
   "outputs": [
    {
     "name": "stdout",
     "output_type": "stream",
     "text": [
      "elapsed time: 38.21318969 seconds (531644 bytes allocated)\n"
     ]
    }
   ],
   "source": [
    "L=200\n",
    "A=zeros(Int,L,L)\n",
    "A[floor(L/2+1),floor(L/2+1)]=1\n",
    "\n",
    "@time for i in 1:10000\n",
    "    paso(A,L)\n",
    "end"
   ]
  },
  {
   "cell_type": "code",
   "execution_count": 3,
   "metadata": {
    "collapsed": false
   },
   "outputs": [
    {
     "data": {
      "text/plain": [
       "11x11 Array{Int64,2}:\n",
       " 0  0  0  0  0   0  0  0  0  0  0\n",
       " 0  0  0  0  0   0  0  0  0  0  0\n",
       " 0  0  0  0  0   0  0  0  0  0  0\n",
       " 0  0  0  0  0   0  0  0  0  0  0\n",
       " 0  0  0  0  0   0  0  0  0  0  0\n",
       " 0  0  0  0  0   1  0  0  0  0  0\n",
       " 0  0  0  0  0   0  0  0  0  0  0\n",
       " 0  0  0  0  0   0  0  0  0  0  0\n",
       " 0  0  0  0  0  -1  0  0  0  0  0\n",
       " 0  0  0  0  0   0  0  0  0  0  0\n",
       " 0  0  0  0  0   0  0  0  0  0  0"
      ]
     },
     "execution_count": 3,
     "metadata": {},
     "output_type": "execute_result"
    }
   ],
   "source": [
    "pcolor(A)\n",
    "axis(\"image\")"
   ]
  },
  {
   "cell_type": "code",
   "execution_count": 4,
   "metadata": {
    "collapsed": false
   },
   "outputs": [
    {
     "data": {
      "text/plain": [
       "paso (generic function with 1 method)"
      ]
     },
     "execution_count": 4,
     "metadata": {},
     "output_type": "execute_result"
    }
   ],
   "source": [
    "L=200\n",
    "A=zeros(Int,L,L)\n",
    "for i in 1:L\n",
    "    A[L,i]=1\n",
    "end\n",
    "\n",
    "@time for i in 1:10000\n",
    "    paso(A,L)\n",
    "end\n",
    "rn A\n",
    "end"
   ]
  },
  {
   "cell_type": "code",
   "execution_count": 7,
   "metadata": {
    "collapsed": false
   },
   "outputs": [
    {
     "data": {
      "text/plain": [
       "6"
      ]
     },
     "execution_count": 7,
     "metadata": {},
     "output_type": "execute_result"
    }
   ],
   "source": [
    "pcolor(A)\n",
    "axis(\"image\")   "
   ]
  },
  {
   "cell_type": "code",
   "execution_count": 4,
   "metadata": {
    "collapsed": false
   },
   "outputs": [
    {
     "data": {
      "text/plain": [
       "pasoreflejante (generic function with 1 method)"
      ]
     },
     "execution_count": 4,
     "metadata": {},
     "output_type": "execute_result"
    }
   ],
   "source": [
    "function pasoreflejante(A::Array{Int64,2},L)\n",
    "x=rand(1:L)\n",
    "y=rand(1:L)\n",
    "        for i in 1:10000000\n",
    "            if x<2\n",
    "                x=2\n",
    "            end\n",
    "        if x>L-1\n",
    "            x=L-1\n",
    "        end\n",
    "                if A[x,y]!=1\n",
    "                    A[x,y]=-1\n",
    "\n",
    "            if A[x,y]*A[mod1(x+1,L),y]==-1 || A[x,y]*A[mod1(x-1,L),y]==-1|| A[x,y]*A[x,mod1(y+1,L)]==-1|| A[x,y]*A[x,mod1(y-1,L)]==-1\n",
    "                        A[x,y]=1\n",
    "                        return A\n",
    "                    else\n",
    "                        A[x,y]=0\n",
    "                    end\n",
    "                x=x+rand(-1:1)\n",
    "                y=mod1(y+rand(-1:1),L)\n",
    "                end\n",
    "        end\n",
    "    return A\n",
    "end\n"
   ]
  },
  {
   "cell_type": "code",
   "execution_count": 5,
   "metadata": {
    "collapsed": false
   },
   "outputs": [
    {
     "name": "stdout",
     "output_type": "stream",
     "text": [
      "elapsed time: 63.497138982 seconds (427344 bytes allocated)\n"
     ]
    }
   ],
   "source": [
    "L=200\n",
    "A=zeros(Int,L,L)\n",
    "for i in 1:L\n",
    "    A[L,i]=1\n",
    "end\n",
    "\n",
    "@time for i in 1:10000\n",
    "    pasoreflejante(A,L)\n",
    "end"
   ]
  },
  {
   "cell_type": "code",
   "execution_count": null,
   "metadata": {
    "collapsed": true
   },
   "outputs": [],
   "source": [
    "pcolor(A)\n",
    "axis(\"image\")   "
   ]
  },
  {
   "cell_type": "code",
   "execution_count": 6,
   "metadata": {
    "collapsed": false
   },
   "outputs": [
    {
     "data": {
      "text/plain": [
       "pasoreflejantecolor (generic function with 1 method)"
      ]
     },
     "execution_count": 6,
     "metadata": {},
     "output_type": "execute_result"
    }
   ],
   "source": [
    "function pasoreflejantecolor(A::Array{Int64,2},L,color)\n",
    "x=rand(1:L)\n",
    "y=rand(1:L)\n",
    "        for i in 1:10000000\n",
    "            if x<2\n",
    "                x=2\n",
    "            end\n",
    "        if x>L-1\n",
    "            x=L-1\n",
    "        end\n",
    "                if A[x,y]!=1\n",
    "            A[x,y]=color\n",
    "\n",
    "            if A[x,y]*A[mod1(x+1,L),y]!=0 || A[x,y]*A[mod1(x-1,L),y]!=0|| A[x,y]*A[x,mod1(y+1,L)]!=0|| A[x,y]*A[x,mod1(y-1,L)]!=0\n",
    "                A[x,y]=color\n",
    "                        return A\n",
    "                    else\n",
    "                        A[x,y]=0\n",
    "                    end\n",
    "                x=x+rand(-1:1)\n",
    "                y=mod1(y+rand(-1:1),L)\n",
    "                end\n",
    "        end\n",
    "    return A\n",
    "end"
   ]
  },
  {
   "cell_type": "code",
   "execution_count": 7,
   "metadata": {
    "collapsed": true
   },
   "outputs": [],
   "source": [
    "L=200\n",
    "A=zeros(Int,L,L)\n",
    "for i in 1:L\n",
    "    A[L,i]=1\n",
    "end\n",
    "particulas=10000\n",
    "color=20\n",
    "for c in 1:color\n",
    "     for i in 1:particulas/color\n",
    "        pasoreflejantecolor(A,L,c)\n",
    "    end\n",
    "end"
   ]
  },
  {
   "cell_type": "code",
   "execution_count": null,
   "metadata": {
    "collapsed": true
   },
   "outputs": [],
   "source": [
    "pcolor(A)\n",
    "axis(\"image\")  "
   ]
  },
  {
   "cell_type": "code",
   "execution_count": 8,
   "metadata": {
    "collapsed": false
   },
   "outputs": [
    {
     "data": {
      "text/plain": [
       "pasoreflejantecolorfijo (generic function with 1 method)"
      ]
     },
     "execution_count": 8,
     "metadata": {},
     "output_type": "execute_result"
    }
   ],
   "source": [
    "function pasoreflejantecolorfijo(A::Array{Int64,2},L,color)\n",
    "x=1\n",
    "y=rand(1:L)\n",
    "        for i in 1:10000000\n",
    "            if x<2\n",
    "                x=2\n",
    "            end\n",
    "        if x>L-1\n",
    "            x=L-1\n",
    "        end\n",
    "                if A[x,y]!=1\n",
    "            A[x,y]=color\n",
    "\n",
    "            if A[x,y]*A[mod1(x+1,L),y]!=0 || A[x,y]*A[mod1(x-1,L),y]!=0|| A[x,y]*A[x,mod1(y+1,L)]!=0|| A[x,y]*A[x,mod1(y-1,L)]!=0\n",
    "                A[x,y]=color\n",
    "                        return A\n",
    "                    else\n",
    "                        A[x,y]=0\n",
    "                    end\n",
    "                x=x+rand(-1:1)\n",
    "                y=mod1(y+rand(-1:1),L)\n",
    "                end\n",
    "        end\n",
    "    return A\n",
    "end"
   ]
  },
  {
   "cell_type": "code",
   "execution_count": 9,
   "metadata": {
    "collapsed": true
   },
   "outputs": [],
   "source": [
    "L=200\n",
    "A=zeros(Int,L,L)\n",
    "for i in 1:L\n",
    "    A[L,i]=1\n",
    "end\n",
    "particulas=5000\n",
    "color=20\n",
    "for c in 1:color\n",
    "     for i in 1:particulas/color\n",
    "        pasoreflejantecolorfijo(A,L,c)\n",
    "    end\n",
    "end"
   ]
  },
  {
   "cell_type": "code",
   "execution_count": null,
   "metadata": {
    "collapsed": true
   },
   "outputs": [],
   "source": [
    "pcolor(A)\n",
    "axis(\"image\") "
   ]
  },
  {
   "cell_type": "code",
   "execution_count": null,
   "metadata": {
    "collapsed": true
   },
   "outputs": [],
   "source": []
  }
 ],
 "metadata": {
  "kernelspec": {
   "display_name": "Julia 0.3.5",
   "language": "julia",
   "name": "julia 0.3"
  },
  "language_info": {
   "name": "julia",
   "version": "0.3.5"
  }
 },
 "nbformat": 4,
 "nbformat_minor": 0
}
